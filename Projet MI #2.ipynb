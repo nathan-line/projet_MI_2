{
 "cells": [
  {
   "cell_type": "markdown",
   "metadata": {},
   "source": [
    "# __Projet Maths-Info #2 : Choix du pas de temps__"
   ]
  },
  {
   "cell_type": "markdown",
   "metadata": {},
   "source": [
    "Binôme: Julien LAVAL et Nathan LINÉ."
   ]
  },
  {
   "cell_type": "markdown",
   "metadata": {},
   "source": [
    "Ce notebook traite de l'adaptation du pas de temps lors de la résolution approchée d'équations différentielles linéaires."
   ]
  },
  {
   "cell_type": "markdown",
   "metadata": {},
   "source": [
    "Tout d'abord, on importe les librairies Python dont on aura besoin : "
   ]
  },
  {
   "cell_type": "code",
   "execution_count": 6,
   "metadata": {},
   "outputs": [],
   "source": [
    "import numpy as np \n",
    "import matplotlib.pyplot as plt"
   ]
  },
  {
   "cell_type": "markdown",
   "metadata": {},
   "source": [
    "## Pas fixe "
   ]
  },
  {
   "cell_type": "markdown",
   "metadata": {},
   "source": [
    "On note $x_0 = x(t_0)~$ la condition initiale, $dt$ le pas de temps fixe, $f~$ la fonction telle que $\\dot x(t) = f(x,t)$, et enfin $t_{max}$ la valeur maximale de l'intervalle sur lequel la solution approchée est calculée."
   ]
  },
  {
   "cell_type": "markdown",
   "metadata": {},
   "source": [
    "### Schéma d'Euler explicite :"
   ]
  },
  {
   "cell_type": "markdown",
   "metadata": {},
   "source": [
    "#### Fonction : "
   ]
  },
  {
   "cell_type": "code",
   "execution_count": 7,
   "metadata": {},
   "outputs": [],
   "source": [
    "def solve_euler_explicit(f, x0, dt, t0, tmax):\n",
    "    x, t = [], []\n",
    "    xi, ti = x0, t0\n",
    "    N = int((tmax - t0)/dt) + 1 # Nombre de pas\n",
    "    for loop in range(N):\n",
    "        x.append(xi)\n",
    "        t.append(ti)\n",
    "        xi += dt*f(ti, xi)\n",
    "        ti += dt\n",
    "    return t, x"
   ]
  },
  {
   "cell_type": "markdown",
   "metadata": {},
   "source": [
    "#### Test :"
   ]
  },
  {
   "cell_type": "markdown",
   "metadata": {},
   "source": [
    "On considère l'équation différentielle $\\dot x = ax$, avec $a \\in \\mathbb{R}.$  \n",
    "La solution est $x: t \\rightarrow e^{ax}$. Pour l'exemple, nous prendront ici $a = 1$ : nous avons alors $f = Id$."
   ]
  },
  {
   "cell_type": "code",
   "execution_count": 8,
   "metadata": {},
   "outputs": [],
   "source": [
    "def f(t,x):\n",
    "    return x"
   ]
  },
  {
   "cell_type": "code",
   "execution_count": 9,
   "metadata": {},
   "outputs": [],
   "source": [
    "t0, tmax = 0, 10\n",
    "x0 = np.exp(t0)\n",
    "dts = [1, 1/2, 1/4, 1/8, 1/16] # Différents pas décroissants."
   ]
  },
  {
   "cell_type": "code",
   "execution_count": 10,
   "metadata": {},
   "outputs": [
    {
     "name": "stdout",
     "output_type": "stream",
     "text": [
      " écart maximal pour dt = 1 : 21000\n",
      " écart maximal pour dt = 0.5 : 18700\n",
      " écart maximal pour dt = 0.25 : 14500\n",
      " écart maximal pour dt = 0.125 : 9660\n",
      " écart maximal pour dt = 0.0625 : 5710\n"
     ]
    },
    {
     "data": {
      "image/png": "[encoded data removed]",
      "text/plain": [
       "<matplotlib.figure.Figure at 0x1f7f9d5e550>"
      ]
     },
     "metadata": {
      "needs_background": "light"
     },
     "output_type": "display_data"
    }
   ],
   "source": [
    "# Solutions approchées : \n",
    "for i in range(len(dts)):\n",
    "    t, x = solve_euler_explicit(f, x0, dts[i], t0, tmax)\n",
    "    x_exact = np.exp(t)\n",
    "    y = abs(x-x_exact)\n",
    "    \n",
    "    plt.plot(t, x, label = f'dt = {dts[i]}')\n",
    "    print(f' écart maximal pour dt = {dts[i]} : {int(round(max(y),-1))}')\n",
    "\n",
    "# Solution exacte :\n",
    "x_exact = np.exp(t)\n",
    "plt.plot(t, x_exact, label = 'solution exacte') # Tracé avec le plus grand nombre de points des solutions approchées.\n",
    "\n",
    "\n",
    "plt.legend()\n",
    "plt.show()"
   ]
  },
  {
   "cell_type": "markdown",
   "metadata": {},
   "source": [
    "On remarque que l'écart maximal est bien décroissant lorsque $dt$ décroit, ce qui peut amener à penser qu'il tendra vers 0 lorsque $dt \\rightarrow 0$. "
   ]
  },
  {
   "cell_type": "markdown",
   "metadata": {},
   "source": [
    "### Méthode d'ordre 2 : Heun"
   ]
  },
  {
   "cell_type": "markdown",
   "metadata": {},
   "source": [
    "#### Fonction "
   ]
  },
  {
   "cell_type": "code",
   "execution_count": 11,
   "metadata": {},
   "outputs": [],
   "source": [
    "def solve_heun_explicit(f, x0, dt, t0, tmax):\n",
    "    x, t = [], []\n",
    "    xi, ti = x0, t0\n",
    "    N = int((tmax - t0)/dt) + 1 # Nombre de pas\n",
    "    for loop in range(N):\n",
    "        x.append(xi)\n",
    "        t.append(ti)\n",
    "        xi += dt/2*(f(ti, xi) + f(ti + dt, xi + dt*f(ti,xi)))\n",
    "        ti += dt\n",
    "    return t, x"
   ]
  },
  {
   "cell_type": "markdown",
   "metadata": {},
   "source": [
    "#### test"
   ]
  },
  {
   "cell_type": "markdown",
   "metadata": {},
   "source": [
    "Avec toujours la même équation différentielle, on a : "
   ]
  },
  {
   "cell_type": "code",
   "execution_count": 12,
   "metadata": {},
   "outputs": [
    {
     "name": "stdout",
     "output_type": "stream",
     "text": [
      " écart maximal pour dt = 1 : 12490\n",
      " écart maximal pour dt = 0.5 : 5540\n",
      " écart maximal pour dt = 0.25 : 1830\n",
      " écart maximal pour dt = 0.125 : 520\n",
      " écart maximal pour dt = 0.0625 : 140\n"
     ]
    },
    {
     "data": {
      "image/png": "[encoded data removed]",
      "text/plain": [
       "<matplotlib.figure.Figure at 0x1f7f9d89ac8>"
      ]
     },
     "metadata": {
      "needs_background": "light"
     },
     "output_type": "display_data"
    }
   ],
   "source": [
    "# Solutions approchées : \n",
    "for i in range(len(dts)):\n",
    "    t, x = solve_heun_explicit(f, x0, dts[i], t0, tmax)\n",
    "    x_exact = np.exp(t)\n",
    "    y = abs(x-x_exact)\n",
    "    \n",
    "    plt.plot(t, x, label = f'dt = {dts[i]}')\n",
    "    print(f' écart maximal pour dt = {dts[i]} : {int(round(max(y),-1))}')\n",
    "\n",
    "# Solution exacte :\n",
    "x_exact = np.exp(t)\n",
    "plt.plot(t, x_exact, label = 'solution exacte') # Tracé avec le plus grand nombre de points des solutions approchées.\n",
    "\n",
    "\n",
    "plt.legend()\n",
    "plt.show()"
   ]
  },
  {
   "cell_type": "markdown",
   "metadata": {},
   "source": [
    "De même, la convergence semble assurée par le fait que l'écart maximal soit décroissant majoré par 0. Cependant, on observe alors une convergence plus rapide que pour la méthode d'ordre 1. Utilisons une base décimale pour comparer la variation de l'écart maximale en fonction du pas : "
   ]
  },
  {
   "cell_type": "code",
   "execution_count": 13,
   "metadata": {},
   "outputs": [],
   "source": [
    "dtsp = [1, 0.1, 0.01, 0.001, 0.0001]"
   ]
  },
  {
   "cell_type": "code",
   "execution_count": 14,
   "metadata": {},
   "outputs": [
    {
     "name": "stdout",
     "output_type": "stream",
     "text": [
      "dt = 1 : Euler :21002.46579, Heun :12489.72263 \n",
      "dt = 0.1 : Euler :8245.85345, Heun :338.05142 \n",
      "dt = 0.01 : Euler :1067.31016, Heun :3.64335 \n",
      "dt = 0.001 : Euler :109.78446, Heun :0.03668 \n",
      "dt = 0.0001 : Euler :11.00975, Heun :0.00037 \n"
     ]
    }
   ],
   "source": [
    "# Solutions approchées : \n",
    "for i in range(len(dts)):\n",
    "    t1, x1 = solve_euler_explicit(f, x0, dtsp[i], t0, tmax)\n",
    "    t2, x2 = solve_heun_explicit(f, x0, dtsp[i], t0, tmax)\n",
    "    x_exact = np.exp(t1)\n",
    "    y1 = abs(x1-x_exact)\n",
    "    y2 = abs(x2-x_exact)\n",
    "    \n",
    "    print(f'dt = {dtsp[i]} : Euler :{round(max(y1), 5)}, Heun :{round(max(y2), 5)} ')"
   ]
  },
  {
   "cell_type": "markdown",
   "metadata": {},
   "source": [
    "Comme vu auparavant, les deux méthodes semblent avoir un écart max qui tend vers 0 lorsque dt tend vers 0.   \n",
    "Cependant, pour la méthode d'Euler, l'écart max est environ divisé par 10 lorsque le pas l'est, alors qu'il est environ divisé par 100 lorsque le pas est divisé par 10 dans la méthode de Heun. On retrouve une méthode d'Euleur d'ordre 1, en O($dt$) et une méthode de Heun d'ordre 2, en O($dt^2$)."
   ]
  },
  {
   "cell_type": "markdown",
   "metadata": {},
   "source": [
    "## Adaptation du pas de temps"
   ]
  },
  {
   "cell_type": "markdown",
   "metadata": {},
   "source": [
    "$\\diamond$ Soit $f $  une fonction $\\mathcal{C}^1$, associée à un schéma d'Euleur explicite."
   ]
  },
  {
   "cell_type": "markdown",
   "metadata": {},
   "source": [
    "$\\triangleright$ L'erreur locale est donnée par :  \n",
    "$ e^{j+1} = (\\, z^{j} + \\int_{t_{j}}^{t_{j+1}} f(s,z(s)) \\, \\mathrm{d}s \\,)  - x^{j+1}, \\; $ où $z$ est solution de :  \n",
    "$\\left \\lbrace\n",
    "\\begin{array}{rl}\n",
    "    z(t)  & = f(t,z(t))\\\\\n",
    "    z(t_{j}) &= x^{j}\\\\\n",
    "\\end{array}\n",
    "\\right.$  \n",
    "\n",
    "d'où : $e^{j+1} = z(t_{j+1}) - x^{j+1}$  \n",
    "\n",
    "Comme $f$ est $\\mathcal{C}^1$, $z$ est $\\mathcal{C}^2$ et son développement de Taylor autour de $t_j$ évaluté en $t_{j+1}$ donne :  \n",
    "$z(t_{j+1}) = z(t_{j}) + \\Delta t_{j} \\frac{dz}{dt} (t_{j})  + \\frac{\\Delta t_{j}^{2}}{2} \\frac{d^{2}z}{dt^{2}}(t_{j}) + O (\\Delta t_{j}^{3})$  \n",
    "$= x^{j+1} + \\frac{\\Delta t_{j}^{2}}{2} \\frac{d^{2}z}{dt^{2}}(t_{j}) + O (\\Delta t_{j}^{3}) \\;$ par définition de z.     \n",
    "Ainsi, $e^{j+1} = \\frac{\\Delta t_{j}^{2}}{2} \\frac{d^{2}z}{dt^{2}}(t_{j}) + O (\\Delta t_{j}^{3})$  \n",
    "\n",
    "Soit $\\Phi : t \\to f(t,x(t))$, $\\,$ qui est $\\mathcal{C}^1$.  \n",
    "$\\dfrac{d^{2}z}{dt^{2}}(t_{j}) = \\Phi'(t_{j})\\\\ \n",
    "\\; \\; \\; \\; \\; \\; \\, \\; \\; \\; \\;= df(t_j, \\,z(t_j))\\;(1, \\, \\dfrac{dz}{dt}(t_j))\\\\\n",
    "\\; \\; \\; \\; \\; \\; \\, \\; \\; \\; \\;= df(t_j, \\,z(t_j))) \\; (1, \\, f(t_j)) \\\\\n",
    "\\; \\; \\; \\; \\; \\; \\, \\; \\; \\; \\;= \\partial_x f(t_j, \\, x^j) + f(t_j) \\partial_y f(t_j, \\, x^j)$  \n",
    "\n",
    "$\\Rightarrow e^{j+1} = \\frac{\\Delta t_j^2}{2} (\\partial_x f(t_j, \\, x^j) + f(t_j) \\partial_y f(t_j, x^j) ) + O(\\Delta t_j^3)$.\n",
    "\n",
    "$\\triangleright$ Or $f(t_{j+1}, \\, x^{j+1}) = f(t_j, \\, x^j) + \\Delta t_j \\partial_x f (t_j, \\,x^j) + (x^{j+1} - x^j) \\partial_y f (t_j,\\, x^j) + O(\\Delta t_j^3) \\quad$ par développement de Taylor à deux variables de $f$.\n",
    "$\\Rightarrow \\frac{\\Delta t_j}{2} (f(t_{j+1}, \\, x^{j+1}) - f(t_j, \\, x^j)) = e^{j+1} + O(\\Delta t_j^3)$  \n",
    "\n",
    "Par seconde inégalité triangulaire,  \n",
    "$ \\left \\vert \\Vert \\frac{\\Delta t_j}{2} (f(t_{j+1}, \\, x^{j+1}) - f(t_j, \\, x^j))\\Vert - \\Vert e^{j+1} \\Vert \\right \\vert \\leq \\Vert \\frac{\\Delta t_j}{2} (f(t_{j+1}, \\, x^{j+1}) - f(t_j, \\, x^j) - e^{j+1} \\Vert = O(\\Delta t_j^3)$  \n",
    "\n",
    "donc $\\boxed{\\Vert e^{j+1} \\Vert = \\Vert \\frac{\\Delta t_j}{2} (f(t_{j+1}, \\, x^{j+1}) - f(t_j, \\, x^j)) \\Vert + O(\\Delta t_j^3)}$  "
   ]
  },
  {
   "cell_type": "markdown",
   "metadata": {},
   "source": [
    " "
   ]
  },
  {
   "cell_type": "markdown",
   "metadata": {},
   "source": [
    "$\\diamond$ Selon la question précédente,  \n",
    "$e^{j+1} = \\frac{\\Delta t_j^2}{2} (\\partial_x f(t_j, \\, x^j) + f(t_j) \\partial_y f(t_j, \\, x^j) ) + O(\\Delta t_j^3)\\\\\n",
    "\\Rightarrow \\boxed{e^{j+1} = O(\\Delta t_j^2)}$\n"
   ]
  },
  {
   "cell_type": "markdown",
   "metadata": {},
   "source": [
    " "
   ]
  },
  {
   "cell_type": "markdown",
   "metadata": {},
   "source": [
    "Justification de la stratégie de prendre $\\Delta t_{new} = \\Delta t \\sqrt{\\dfrac{Tol_{abs}}{\\Vert e^{j+1} \\Vert}}$ :  \n"
   ]
  },
  {
   "cell_type": "markdown",
   "metadata": {},
   "source": [
    "  "
   ]
  },
  {
   "cell_type": "markdown",
   "metadata": {},
   "source": [
    "$\\diamond$ On reprend le code donné dans le notebook Equation Differentielles II.ipynb : "
   ]
  },
  {
   "cell_type": "code",
   "execution_count": 19,
   "metadata": {},
   "outputs": [],
   "source": [
    "def solve_ivp_euler_explicit_variable_step(f, t0, x0, t_f, dtmin = 1e-16, dtmax = 0.01, atol = 1e-6):\n",
    "    dt = dtmax/10; # initial integration step\n",
    "    ts, xs = [t0], [x0]  # storage variables\n",
    "    t = t0\n",
    "    ti = 0  # internal time keeping track of time since latest storage point : must remain below dtmax\n",
    "    x = x0\n",
    "    while ts[-1] < t_f:\n",
    "        while ti < dtmax:\n",
    "            t_next, ti_next, x_next = t + dt, ti + dt, x + dt * f(x)\n",
    "            x_back = x_next - dt * f(x_next)\n",
    "            ratio_abs_error = atol / (linalg.norm(x_back-x)/2)\n",
    "            dt = 0.9 * dt * sqrt(ratio_abs_error)\n",
    "            if dt < dtmin:\n",
    "                raise ValueError(\"Time step below minimum\")\n",
    "            elif dt > dtmax/2:\n",
    "                dt = dtmax/2\n",
    "            t, ti, x = t_next, ti_next, x_next\n",
    "        dt2DT = dtmax - ti # time left to dtmax\n",
    "        t_next, ti_next, x_next = t + dt2DT, 0, x + dt2DT * f(x)\n",
    "        ts = vstack([ts,t_next])\n",
    "        xs = vstack([xs,x_next])\n",
    "        t, ti, x = t_next, ti_next, x_next\n",
    "    return (ts, xs.T)"
   ]
  },
  {
   "cell_type": "markdown",
   "metadata": {},
   "source": [
    "$\\triangleright$ Explication du solveur :  \n",
    "\n",
    "Les différents paramètres d'entrée  de ce solveur sont les suivants :\n",
    "* f : fonction dans le problème à résoudre\n",
    "* t0, t_f : intervalle de temps sur lequel on résoud l'équation différentielle \n",
    "* x0 : condition initiale dans le problème à résoudre\n",
    "* dtmax : intervalle de temps global de stockage des valeurs \n",
    "* dtmin : intervalle de temps minimal, en dessous duquel le pas est trop faible et le solveur trop long : on retourne une erreur\n",
    "* atol : tolérance d'erreur locale $Tol_{abs}$\n",
    "\n",
    "Le solveur commence par fixer un pas d'intégration de façon qualitative à dtmax/10, qui représentera le premier pas qui sera fait avant d'être adapté en fonction de l'erreur. Il créé ensuite deux listes qui stockeront les temps de prise de valeurs t0, t0 + dtmax, t0 + 2dtmax..., ainsi que les valeurs calculées de la fonction solution en ces temps. \n",
    "La variable $t$ stocke le temps actuel où est effectuée l'estimation, alors que la variable $t_i$ stocke le temps depuis le dernier point de stockage, elle doit donc être comprise entre $0$ et $dtmax$. \n",
    "\n",
    "Première boucle while, pour stocker des valeurs dans les deux listes tant que l'on reste dans l'intervalle $[t_0, t_f]$. Deuxième boucle while, pour avancer localement dans un des intervalles en modifiant le pas tant que la variable $t_i$ est plus faible que $dtmax$. "
   ]
  },
  {
   "cell_type": "markdown",
   "metadata": {},
   "source": [
    "$\\triangleright$ Illustration du fonctionnement du solveur :  \n",
    "\n",
    "On applique le solveur à l'équation différentielle $y'' + \\frac{2}{t} y' - \\frac{1}{t^4} y = 0, t>0$, dont une solution est la fonction $g: t \\to \\sin(\\frac{1}{t})$."
   ]
  },
  {
   "cell_type": "code",
   "execution_count": 20,
   "metadata": {},
   "outputs": [
    {
     "ename": "TypeError",
     "evalue": "f() missing 1 required positional argument: 'x'",
     "output_type": "error",
     "traceback": [
      "\u001b[1;31m---------------------------------------------------------------------------\u001b[0m",
      "\u001b[1;31mTypeError\u001b[0m                                 Traceback (most recent call last)",
      "\u001b[1;32m<ipython-input-20-095051120bbe>\u001b[0m in \u001b[0;36m<module>\u001b[1;34m\u001b[0m\n\u001b[0;32m      2\u001b[0m     \u001b[1;32mreturn\u001b[0m \u001b[1;33m[\u001b[0m\u001b[0mx\u001b[0m\u001b[1;33m[\u001b[0m\u001b[1;36m1\u001b[0m\u001b[1;33m]\u001b[0m\u001b[1;33m,\u001b[0m \u001b[1;33m-\u001b[0m\u001b[1;33m(\u001b[0m\u001b[1;36m1\u001b[0m\u001b[1;33m/\u001b[0m\u001b[0mt\u001b[0m\u001b[1;33m**\u001b[0m\u001b[1;36m4\u001b[0m\u001b[1;33m)\u001b[0m \u001b[1;33m*\u001b[0m \u001b[0mx\u001b[0m\u001b[1;33m[\u001b[0m\u001b[1;36m0\u001b[0m\u001b[1;33m]\u001b[0m \u001b[1;33m+\u001b[0m \u001b[1;36m2\u001b[0m\u001b[1;33m/\u001b[0m\u001b[0mt\u001b[0m\u001b[1;33m*\u001b[0m \u001b[0mx\u001b[0m\u001b[1;33m[\u001b[0m\u001b[1;36m1\u001b[0m\u001b[1;33m]\u001b[0m\u001b[1;33m]\u001b[0m\u001b[1;33m\u001b[0m\u001b[0m\n\u001b[0;32m      3\u001b[0m \u001b[1;33m\u001b[0m\u001b[0m\n\u001b[1;32m----> 4\u001b[1;33m \u001b[0mts\u001b[0m\u001b[1;33m,\u001b[0m \u001b[0mxs\u001b[0m \u001b[1;33m=\u001b[0m \u001b[0msolve_ivp_euler_explicit_variable_step\u001b[0m\u001b[1;33m(\u001b[0m\u001b[0mf\u001b[0m\u001b[1;33m,\u001b[0m \u001b[1;36m0.1\u001b[0m\u001b[1;33m,\u001b[0m \u001b[1;33m[\u001b[0m\u001b[0mnp\u001b[0m\u001b[1;33m.\u001b[0m\u001b[0msin\u001b[0m\u001b[1;33m(\u001b[0m\u001b[1;36m1\u001b[0m\u001b[1;33m)\u001b[0m\u001b[1;33m,\u001b[0m \u001b[0mnp\u001b[0m\u001b[1;33m.\u001b[0m\u001b[0mcos\u001b[0m\u001b[1;33m(\u001b[0m\u001b[1;36m1\u001b[0m\u001b[1;33m)\u001b[0m\u001b[1;33m]\u001b[0m\u001b[1;33m,\u001b[0m \u001b[1;36m1\u001b[0m\u001b[1;33m,\u001b[0m \u001b[0mdtmin\u001b[0m \u001b[1;33m=\u001b[0m \u001b[1;36m1e-16\u001b[0m\u001b[1;33m,\u001b[0m \u001b[0mdtmax\u001b[0m \u001b[1;33m=\u001b[0m \u001b[1;36m0.01\u001b[0m\u001b[1;33m,\u001b[0m \u001b[0matol\u001b[0m \u001b[1;33m=\u001b[0m \u001b[1;36m1e-6\u001b[0m\u001b[1;33m)\u001b[0m\u001b[1;33m\u001b[0m\u001b[0m\n\u001b[0m",
      "\u001b[1;32m<ipython-input-19-21e4fc5baeb2>\u001b[0m in \u001b[0;36msolve_ivp_euler_explicit_variable_step\u001b[1;34m(f, t0, x0, t_f, dtmin, dtmax, atol)\u001b[0m\n\u001b[0;32m      7\u001b[0m     \u001b[1;32mwhile\u001b[0m \u001b[0mts\u001b[0m\u001b[1;33m[\u001b[0m\u001b[1;33m-\u001b[0m\u001b[1;36m1\u001b[0m\u001b[1;33m]\u001b[0m \u001b[1;33m<\u001b[0m \u001b[0mt_f\u001b[0m\u001b[1;33m:\u001b[0m\u001b[1;33m\u001b[0m\u001b[0m\n\u001b[0;32m      8\u001b[0m         \u001b[1;32mwhile\u001b[0m \u001b[0mti\u001b[0m \u001b[1;33m<\u001b[0m \u001b[0mdtmax\u001b[0m\u001b[1;33m:\u001b[0m\u001b[1;33m\u001b[0m\u001b[0m\n\u001b[1;32m----> 9\u001b[1;33m             \u001b[0mt_next\u001b[0m\u001b[1;33m,\u001b[0m \u001b[0mti_next\u001b[0m\u001b[1;33m,\u001b[0m \u001b[0mx_next\u001b[0m \u001b[1;33m=\u001b[0m \u001b[0mt\u001b[0m \u001b[1;33m+\u001b[0m \u001b[0mdt\u001b[0m\u001b[1;33m,\u001b[0m \u001b[0mti\u001b[0m \u001b[1;33m+\u001b[0m \u001b[0mdt\u001b[0m\u001b[1;33m,\u001b[0m \u001b[0mx\u001b[0m \u001b[1;33m+\u001b[0m \u001b[0mdt\u001b[0m \u001b[1;33m*\u001b[0m \u001b[0mf\u001b[0m\u001b[1;33m(\u001b[0m\u001b[0mx\u001b[0m\u001b[1;33m)\u001b[0m\u001b[1;33m\u001b[0m\u001b[0m\n\u001b[0m\u001b[0;32m     10\u001b[0m             \u001b[0mx_back\u001b[0m \u001b[1;33m=\u001b[0m \u001b[0mx_next\u001b[0m \u001b[1;33m-\u001b[0m \u001b[0mdt\u001b[0m \u001b[1;33m*\u001b[0m \u001b[0mf\u001b[0m\u001b[1;33m(\u001b[0m\u001b[0mx_next\u001b[0m\u001b[1;33m)\u001b[0m\u001b[1;33m\u001b[0m\u001b[0m\n\u001b[0;32m     11\u001b[0m             \u001b[0mratio_abs_error\u001b[0m \u001b[1;33m=\u001b[0m \u001b[0matol\u001b[0m \u001b[1;33m/\u001b[0m \u001b[1;33m(\u001b[0m\u001b[0mlinalg\u001b[0m\u001b[1;33m.\u001b[0m\u001b[0mnorm\u001b[0m\u001b[1;33m(\u001b[0m\u001b[0mx_back\u001b[0m\u001b[1;33m-\u001b[0m\u001b[0mx\u001b[0m\u001b[1;33m)\u001b[0m\u001b[1;33m/\u001b[0m\u001b[1;36m2\u001b[0m\u001b[1;33m)\u001b[0m\u001b[1;33m\u001b[0m\u001b[0m\n",
      "\u001b[1;31mTypeError\u001b[0m: f() missing 1 required positional argument: 'x'"
     ]
    }
   ],
   "source": [
    "def f(t,x):\n",
    "    return [x[1], -(1/t**4) * x[0] + 2/t* x[1]]\n",
    "\n",
    "ts, xs = solve_ivp_euler_explicit_variable_step(f, 0.1, [np.sin(1), np.cos(1)], 1, dtmin = 1e-16, dtmax = 0.01, atol = 1e-6)"
   ]
  },
  {
   "cell_type": "code",
   "execution_count": null,
   "metadata": {},
   "outputs": [],
   "source": []
  },
  {
   "cell_type": "code",
   "execution_count": null,
   "metadata": {},
   "outputs": [],
   "source": []
  }
 ],
 "metadata": {
  "kernelspec": {
   "display_name": "Python 3",
   "language": "python",
   "name": "python3"
  },
  "language_info": {
   "codemirror_mode": {
    "name": "ipython",
    "version": 3
   },
   "file_extension": ".py",
   "mimetype": "text/x-python",
   "name": "python",
   "nbconvert_exporter": "python",
   "pygments_lexer": "ipython3",
   "version": "3.6.1"
  }
 },
 "nbformat": 4,
 "nbformat_minor": 2
}
